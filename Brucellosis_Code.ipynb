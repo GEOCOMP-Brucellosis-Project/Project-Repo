{
  "nbformat": 4,
  "nbformat_minor": 0,
  "metadata": {
    "colab": {
      "name": "Brucellosis_Code.ipynb",
      "provenance": [],
      "collapsed_sections": [],
      "include_colab_link": true
    },
    "kernelspec": {
      "name": "python3",
      "display_name": "Python 3"
    }
  },
  "cells": [
    {
      "cell_type": "markdown",
      "metadata": {
        "id": "view-in-github",
        "colab_type": "text"
      },
      "source": [
        "<a href=\"https://colab.research.google.com/github/GEOCOMP-Brucellosis-Project/Project-Repo/blob/master/Brucellosis_Code.ipynb\" target=\"_parent\"><img src=\"https://colab.research.google.com/assets/colab-badge.svg\" alt=\"Open In Colab\"/></a>"
      ]
    },
    {
      "cell_type": "markdown",
      "metadata": {
        "id": "ynL-1u7QCZXI",
        "colab_type": "text"
      },
      "source": [
        "# Google Earth Engine"
      ]
    },
    {
      "cell_type": "markdown",
      "metadata": {
        "id": "HGzDcdiSCihc",
        "colab_type": "text"
      },
      "source": [
        "The following code is used to aggregate environmental parameters by month-by county using Google Earth Engine."
      ]
    },
    {
      "cell_type": "markdown",
      "metadata": {
        "id": "5bLGsNPnzpZ_",
        "colab_type": "text"
      },
      "source": [
        "First things first, Authenticate EarthEngine with an earthengine account. This will only need to be done the first time you run this script.\n",
        "\n",
        "Run **only one** of the following code cells: "
      ]
    },
    {
      "cell_type": "markdown",
      "metadata": {
        "id": "naHHEmQ4DTNp",
        "colab_type": "text"
      },
      "source": [
        "1) Use my earthengine credentials to run the code"
      ]
    },
    {
      "cell_type": "code",
      "metadata": {
        "id": "jjuzb_qGATTd",
        "colab_type": "code",
        "colab": {}
      },
      "source": [
        "#creates a credentials file in your content folder\n",
        "f=open('credentials', 'w+')\n",
        "f.write('{\"refresh_token\": \"1//053DTDEe3wnC8CgYIARAAGAUSNwF-L9IrZ9ykjLejw7SDXL-JCzuisH0d7EuscyNK0-JI-kgoC8Xp-b4hj1N63Dzfu8EVb34c-rI\"}')\n",
        "f.close()\n",
        "\n",
        "#copies the credentials file to where it needs to be (! indicates command line statement)\n",
        "!sudo cp '/content/credentials' '/root/.config/earthengine/credentials'"
      ],
      "execution_count": 0,
      "outputs": []
    },
    {
      "cell_type": "markdown",
      "metadata": {
        "id": "cjUQo5MwDhGs",
        "colab_type": "text"
      },
      "source": [
        "2) Use your own credentials (requires you apply for an earthengine account)"
      ]
    },
    {
      "cell_type": "code",
      "metadata": {
        "id": "HyMUz166DnAn",
        "colab_type": "code",
        "colab": {}
      },
      "source": [
        "import ee\n",
        "ee.Authenticate()"
      ],
      "execution_count": 0,
      "outputs": []
    },
    {
      "cell_type": "markdown",
      "metadata": {
        "id": "LwcMlmC4FBIT",
        "colab_type": "text"
      },
      "source": [
        "## Code"
      ]
    },
    {
      "cell_type": "markdown",
      "metadata": {
        "id": "uz_GyNpzFnC2",
        "colab_type": "text"
      },
      "source": [
        "### Imports"
      ]
    },
    {
      "cell_type": "code",
      "metadata": {
        "id": "ZhYayvp_ydwk",
        "colab_type": "code",
        "colab": {}
      },
      "source": [
        "import ee\n",
        "import pandas\n",
        "ee.Initialize()"
      ],
      "execution_count": 0,
      "outputs": []
    },
    {
      "cell_type": "markdown",
      "metadata": {
        "id": "6Ub07nDM0PV5",
        "colab_type": "text"
      },
      "source": [
        "### Functions"
      ]
    },
    {
      "cell_type": "code",
      "metadata": {
        "id": "8uG2qj3B0H8_",
        "colab_type": "code",
        "colab": {}
      },
      "source": [
        "def imageParams(image, shapefile):\n",
        "    \"\"\"\n",
        "    Takes an image and a shapefile, returns a dataframe with the mean band values summarized by shapefile features. \n",
        "    \"\"\"\n",
        "    #Gets the average of the band values in each feature in the iran asset.\n",
        "    envFC=image.reduceRegions(shapefile, ee.Reducer.mean()) #returns a feature collection\n",
        "    envDict=envFC.getInfo()['features'] #reads the feature collection into a python ready dictionary. Slow. \n",
        "\n",
        "    #EnvDict is a messy list of dictionaries for each feature. We need to extract the \"properties\" from each feature. \n",
        "    cols=[] \n",
        "    for feature in envDict:\n",
        "        cols.append(feature['properties']) #properties contains the data we want\n",
        "    \n",
        "    return pandas.DataFrame(cols) #creates a new pandas dataframe with the data in cols\n",
        "    \n",
        "\n",
        "\n",
        "def getYearlyParams(collection, shapefile, startYear, endYear):\n",
        "    \"\"\"\n",
        "    Returns the mean of each band in collection aggregated by region in shapefile for each month between startYear and endYear.\n",
        "    -collection: an EarthEngine ImageCollection filtered to only the desired bands \n",
        "    -shapefile: an EarthEngine FeatureColleciton with regions to be summarized (must be named ADM2_EN)\n",
        "    -startYear, endYear: The code will summarize these years, January-December\n",
        "    \"\"\"\n",
        "    yearlyParams=pandas.DataFrame(columns=['ADM2_EN']) #sets up an output dataframe\n",
        "    for year in range(startYear, endYear+1):\n",
        "        print(year)\n",
        "        for month in range(1, 13):\n",
        "            print(month, end=' ')\n",
        "            #Filters the Image Collection object by year, and then by month, and then takes the first image in the resulting collection. The result is an Image object.\n",
        "            image=collection.filter(ee.Filter.calendarRange(year,year,'year'))\\\n",
        "                .filter(ee.Filter.calendarRange(month, month,'month'))\\\n",
        "                .first()\n",
        "            #Gets a dataframe with the desired parameters for the monthly image and adds it to the total dataframe with a _YearMM suffix\n",
        "            yearlyParams=yearlyParams.merge(imageParams(image, shapefile),\\\n",
        "                                            how='outer',\\\n",
        "                                            on='ADM2_EN',\\\n",
        "                                            suffixes=('', '_'+str(year)+str(month).zfill(2)))\n",
        "    print(\"done\")\n",
        "    return yearlyParams"
      ],
      "execution_count": 0,
      "outputs": []
    },
    {
      "cell_type": "markdown",
      "metadata": {
        "id": "iKRTaLVN2yWV",
        "colab_type": "text"
      },
      "source": [
        "### Main"
      ]
    },
    {
      "cell_type": "code",
      "metadata": {
        "id": "t4nZdolV0VIc",
        "colab_type": "code",
        "outputId": "f815eff7-acc3-459b-a6e8-f6107e503ed6",
        "colab": {
          "base_uri": "https://localhost:8080/",
          "height": 50
        }
      },
      "source": [
        "moWeather = ee.ImageCollection(\"ECMWF/ERA5/MONTHLY\").select(\"mean_2m_air_temperature\",\"total_precipitation\") #Loads the ERA5 monthly collection, only two bands\n",
        "iran = ee.FeatureCollection(\"users/tannerjohnson56/iran_admin\").select(\"ADM2_EN\") #Loads the iran boundaries asset with only county name field kept\n",
        "\n",
        "\n",
        "yearlyParams=getYearlyParams(moWeather, iran, 2008, 2008) #Gets the yearly parameters\n",
        "\n",
        "yearlyParams.to_csv(r'yearlyParams.csv',index = False) #Write the results to a .csv"
      ],
      "execution_count": 0,
      "outputs": [
        {
          "output_type": "stream",
          "text": [
            "2008\n",
            "1 2 3 4 5 6 7 8 9 10 11 12 done\n"
          ],
          "name": "stdout"
        }
      ]
    }
  ]
}